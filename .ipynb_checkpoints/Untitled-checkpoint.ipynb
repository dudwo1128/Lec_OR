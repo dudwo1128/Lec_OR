{
 "cells": [
  {
   "cell_type": "markdown",
   "metadata": {},
   "source": [
    "## Example Problem\n",
    "\n",
    "Dorian Auto manufactures luxury cars and trucks. The company believes that its most likely customers are high-income women and high-income men. In order to reach these groups, Dorian Auto has embarked on an ambitious TV advertising campaign and has decided to purchase one-minute commercial spots on three types of programs: comedy shows, football games and reality TV shows. Seven million high-income women and two million high-income men see each comedy commercial. Two million high-income women and twelve million high-income men see each football commercial. Five million high-income women and five million high-income men see each reality TV commercial. A one-minute comedy ad costs $70,000, a one-minute football ad costs $140,000 and a one-minute Reality TV ad costs $60,000. Dorian would like the commercials to be seen by at least 30 million high-income women (HIW) and at least 30 million high-income men (HIM). Use linear programming to determine how Dorian can meet its advertising requirements at minimum cost. USE SOLVER to calculate the optimal solution and answer the following sensitivity questions:\n",
    "\n",
    "# Problem Formulation\n",
    "\n",
    "Min z = 50x1 + 100x2 (Objective function in $1,000)\n",
    "s.t 7x1 + 2x2 >= 28 (high-income women)\n",
    "    2x1 + 12x2>= 24 (high-income men)\n",
    "    x1,x2 >= 0 (non-negativity)"
   ]
  },
  {
   "cell_type": "code",
   "execution_count": 3,
   "metadata": {},
   "outputs": [
    {
     "name": "stdout",
     "output_type": "stream",
     "text": [
      "Error reported\n"
     ]
    }
   ],
   "source": [
    "from gurobipy import *\n",
    "\n",
    "try:\n",
    "\n",
    "    # Create a new model\n",
    "    m = Model(\"mip1\")\n",
    "\n",
    "    # Create variables\n",
    "    x = m.addVar(vtype=GRB.BINARY, name=\"x\")\n",
    "    y = m.addVar(vtype=GRB.BINARY, name=\"y\")\n",
    "    z = m.addVar(vtype=GRB.BINARY, name=\"z\")\n",
    "\n",
    "    # Integrate new variables\n",
    "    m.update()\n",
    "\n",
    "    # Set objective\n",
    "    m.setObjective(x + y + 2 * z, GRB.MAXIMIZE)\n",
    "\n",
    "    # Add constraint: x + 2 y + 3 z <= 4\n",
    "    m.addConstr(x + 2 * y + 3 * z <= 4, \"c0\")\n",
    "    # Add constraint: x + y >= 1\n",
    "    m.addConstr(x + y >= 1, \"c1\")\n",
    "\n",
    "    m.optimize()\n",
    "\n",
    "    for v in m.getVars():\n",
    "        print (v.varName, v.x)\n",
    "\n",
    "    print ('Obj:', m.objVal)\n",
    "\n",
    "except GurobiError:\n",
    "    print ('Error reported')"
   ]
  }
 ],
 "metadata": {
  "kernelspec": {
   "display_name": "Python 3",
   "language": "python",
   "name": "python3"
  },
  "language_info": {
   "codemirror_mode": {
    "name": "ipython",
    "version": 3
   },
   "file_extension": ".py",
   "mimetype": "text/x-python",
   "name": "python",
   "nbconvert_exporter": "python",
   "pygments_lexer": "ipython3",
   "version": "3.7.1"
  }
 },
 "nbformat": 4,
 "nbformat_minor": 2
}
