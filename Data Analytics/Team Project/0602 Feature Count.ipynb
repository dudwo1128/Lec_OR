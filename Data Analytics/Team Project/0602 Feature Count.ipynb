{
 "cells": [
  {
   "cell_type": "code",
   "execution_count": 7,
   "metadata": {},
   "outputs": [
    {
     "data": {
      "text/plain": [
       "0       평균 전용면적\n",
       "1      평균 대지권면적\n",
       "2          건축년도\n",
       "3            신사\n",
       "4           서초구\n",
       "5           강동구\n",
       "6           경인선\n",
       "7           강남구\n",
       "8           용산구\n",
       "9            사평\n",
       "10           언주\n",
       "11          구로구\n",
       "12          압구정\n",
       "13          마포구\n",
       "14          도봉구\n",
       "15          은평구\n",
       "16         서대문구\n",
       "17          노원구\n",
       "18          금천구\n",
       "19          양천구\n",
       "20          송파구\n",
       "21          1호선\n",
       "22         영등포구\n",
       "23     공항철도 1호선\n",
       "24          경원선\n",
       "25           중구\n",
       "26          중랑구\n",
       "27           역삼\n",
       "28          성동구\n",
       "29           논현\n",
       "         ...   \n",
       "341          청구\n",
       "342         오목교\n",
       "343          수서\n",
       "344          신림\n",
       "345          중곡\n",
       "346          공릉\n",
       "347          하계\n",
       "348          명일\n",
       "349        종로5가\n",
       "350        가락시장\n",
       "351         동묘앞\n",
       "352         신대방\n",
       "353        종로3가\n",
       "354          상도\n",
       "355         남구로\n",
       "356        잠실새내\n",
       "357       대모산입구\n",
       "358        금천구청\n",
       "359       을지로3가\n",
       "360        장승배기\n",
       "361         상일동\n",
       "362        경찰병원\n",
       "363         개화산\n",
       "364         신설동\n",
       "365         사가정\n",
       "366          거여\n",
       "367        동대입구\n",
       "368          독산\n",
       "369         충무로\n",
       "370         강서구\n",
       "Name: feature, Length: 371, dtype: object"
      ]
     },
     "execution_count": 7,
     "metadata": {},
     "output_type": "execute_result"
    }
   ],
   "source": [
    "import pandas as pd\n",
    "data = pd.read_csv('C:/Users/dudwo/Desktop/Feature_Count.csv', encoding = 'cp949')\n",
    "data = pd.DataFrame(data)\n",
    "data['feature']"
   ]
  }
 ],
 "metadata": {
  "kernelspec": {
   "display_name": "Python 3",
   "language": "python",
   "name": "python3"
  },
  "language_info": {
   "codemirror_mode": {
    "name": "ipython",
    "version": 3
   },
   "file_extension": ".py",
   "mimetype": "text/x-python",
   "name": "python",
   "nbconvert_exporter": "python",
   "pygments_lexer": "ipython3",
   "version": "3.6.8"
  }
 },
 "nbformat": 4,
 "nbformat_minor": 2
}
