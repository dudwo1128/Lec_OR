{
 "cells": [
  {
   "cell_type": "code",
   "execution_count": 9,
   "metadata": {},
   "outputs": [],
   "source": [
    "open_text_file = open('out.txt', 'r',-1,\"cp949\")"
   ]
  },
  {
   "cell_type": "code",
   "execution_count": 10,
   "metadata": {},
   "outputs": [
    {
     "data": {
      "text/plain": [
       "'lfdsaf4\\n안녕\\n안녕\\n안녕\\n안녕\\n안녕\\n나는\\n영재\\n영자\\n영재\\n사과\\n포도\\n포도포도\\n사과사과\\n음\\n안녕\\n내\\n이름은\\n이영재는 정재민을 엄청 빨아제낀다\\n'"
      ]
     },
     "execution_count": 10,
     "metadata": {},
     "output_type": "execute_result"
    }
   ],
   "source": [
    "open_text_file.read()"
   ]
  },
  {
   "cell_type": "code",
   "execution_count": 2,
   "metadata": {},
   "outputs": [
    {
     "ename": "ModuleNotFoundError",
     "evalue": "No module named 'konlpy'",
     "output_type": "error",
     "traceback": [
      "\u001b[1;31m---------------------------------------------------------------------------\u001b[0m",
      "\u001b[1;31mModuleNotFoundError\u001b[0m                       Traceback (most recent call last)",
      "\u001b[1;32m<ipython-input-2-8a8e67c93d95>\u001b[0m in \u001b[0;36m<module>\u001b[1;34m\u001b[0m\n\u001b[0;32m      3\u001b[0m \u001b[1;33m\u001b[0m\u001b[0m\n\u001b[0;32m      4\u001b[0m \u001b[0mfile\u001b[0m\u001b[1;33m.\u001b[0m\u001b[0mclose\u001b[0m\u001b[1;33m(\u001b[0m\u001b[1;33m)\u001b[0m\u001b[1;33m\u001b[0m\u001b[1;33m\u001b[0m\u001b[0m\n\u001b[1;32m----> 5\u001b[1;33m \u001b[1;32mfrom\u001b[0m \u001b[0mkonlpy\u001b[0m\u001b[1;33m.\u001b[0m\u001b[0mtag\u001b[0m \u001b[1;32mimport\u001b[0m \u001b[0mTwitter\u001b[0m\u001b[1;33m\u001b[0m\u001b[1;33m\u001b[0m\u001b[0m\n\u001b[0m\u001b[0;32m      6\u001b[0m \u001b[1;32mfrom\u001b[0m \u001b[0mcollections\u001b[0m \u001b[1;32mimport\u001b[0m \u001b[0mCounter\u001b[0m\u001b[1;33m\u001b[0m\u001b[1;33m\u001b[0m\u001b[0m\n\u001b[0;32m      7\u001b[0m \u001b[1;33m\u001b[0m\u001b[0m\n",
      "\u001b[1;31mModuleNotFoundError\u001b[0m: No module named 'konlpy'"
     ]
    }
   ],
   "source": [
    "file=open('./out.txt','w')\n",
    "\n",
    "\n",
    "file.close()\n",
    "from konlpy.tag import Twitter\n",
    "from collections import Counter\n",
    " \n",
    " \n",
    "def get_tags(text, ntags=50):\n",
    "    spliter = Twitter()\n",
    "    # konlpy의 Twitter객체\n",
    "    nouns = spliter.nouns(text)\n",
    "    # nouns 함수를 통해서 text에서 명사만 분리/추출\n",
    "    count = Counter(nouns)\n",
    "    # Counter객체를 생성하고 참조변수 nouns할당\n",
    "    return_list = []  # 명사 빈도수 저장할 변수\n",
    "    for n, c in count.most_common(ntags):\n",
    "        temp = {'tag': n, 'count': c}\n",
    "        return_list.append(temp)\n",
    "    # most_common 메소드는 정수를 입력받아 객체 안의 명사중 빈도수\n",
    "    # 큰 명사부터 순서대로 입력받은 정수 갯수만큼 저장되어있는 객체 반환\n",
    "    # 명사와 사용된 갯수를 return_list에 저장합니다.\n",
    "    return return_list\n",
    " \n",
    " \n",
    "def main():\n",
    "    text_file_name = \"out.txt\"\n",
    "    # 분석할 파일\n",
    "    noun_count = 100\n",
    "    # 최대 많은 빈도수 부터 20개 명사 추출\n",
    "    output_file_name = \"count.txt\"\n",
    "    # count.txt 에 저장\n",
    "    open_text_file = open(text_file_name, 'r',-1,\"cp949\")\n",
    "    # 분석할 파일을 open \n",
    "    text = open_text_file.read() #파일을 읽습니다.\n",
    "    tags = get_tags(text, noun_count) # get_tags 함수 실행\n",
    "    open_text_file.close()   #파일 close\n",
    "    open_output_file = open(output_file_name, 'w',-1,\"utf-8\")\n",
    "    # 결과로 쓰일 count.txt 열기\n",
    "    \n",
    "    for tag in tags:\n",
    "        noun = tag['tag']\n",
    "        count = tag['count']\n",
    "        open_output_file.write('{} {}\\n'.format(noun, count))\n",
    "    # 결과 저장\n",
    "    open_output_file.close()\n",
    " \n",
    "if __name__ == '__main__':\n",
    "    main()"
   ]
  }
 ],
 "metadata": {
  "kernelspec": {
   "display_name": "Python 3",
   "language": "python",
   "name": "python3"
  },
  "language_info": {
   "codemirror_mode": {
    "name": "ipython",
    "version": 3
   },
   "file_extension": ".py",
   "mimetype": "text/x-python",
   "name": "python",
   "nbconvert_exporter": "python",
   "pygments_lexer": "ipython3",
   "version": "3.6.8"
  }
 },
 "nbformat": 4,
 "nbformat_minor": 2
}
